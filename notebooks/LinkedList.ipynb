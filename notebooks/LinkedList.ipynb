{
 "cells": [
  {
   "cell_type": "markdown",
   "metadata": {},
   "source": [
    "#LinkedLists\n",
    "\n",
    "## 2.1. Напишите код для удаления дубликатов из несортированного связного ­списка."
   ]
  },
  {
   "cell_type": "code",
   "execution_count": null,
   "id": "a6345e84",
   "metadata": {
    "dotnet_interactive": {
     "language": "csharp"
    },
    "polyglot_notebook": {
     "kernelName": "csharp"
    },
    "vscode": {
     "languageId": "polyglot-notebook"
    }
   },
   "outputs": [],
   "source": [
    "void deleteDup(LinkedList<int> list)\n",
    "{\n",
    "\n",
    "    LinkedListNode<int> current = list.First();\n",
    "    HashSet<int> hash = new HashSet<int>();\n",
    "    LinkedListNode<int> previous  = null;\n",
    "    while(current != null)\n",
    "    {\n",
    "        if(hash.Contains(current.Value))\n",
    "        {\n",
    "            previous.Next = current.Next;\n",
    "            \n",
    "        }\n",
    "    }\n",
    "}"
   ]
  },
  {
   "cell_type": "markdown",
   "id": "4824ea3a",
   "metadata": {},
   "source": [
    " - Link list reversal"
   ]
  },
  {
   "cell_type": "markdown",
   "id": "109151c6",
   "metadata": {},
   "source": [
    " - Detect cycle in linked list and delete it"
   ]
  }
 ],
 "metadata": {
  "custom": {
   "cells": [],
   "metadata": {
    "kernelspec": {
     "display_name": ".NET (C#)",
     "language": "C#",
     "name": ".net-csharp"
    },
    "language_info": {
     "name": "polyglot-notebook"
    },
    "polyglot_notebook": {
     "kernelInfo": {
      "defaultKernelName": "csharp",
      "items": [
       {
        "aliases": [],
        "languageName": "csharp",
        "name": "csharp"
       }
      ]
     }
    }
   },
   "nbformat": 4,
   "nbformat_minor": 2
  },
  "indentAmount": " ",
  "kernelInfo": {
   "defaultKernelName": null,
   "items": [
    {
     "aliases": [
      "c#",
      "cs"
     ],
     "languageName": "C#",
     "name": "csharp"
    },
    {
     "aliases": [
      "f#",
      "fs"
     ],
     "languageName": "F#",
     "name": "fsharp"
    },
    {
     "aliases": [
      "powershell"
     ],
     "languageName": "PowerShell",
     "name": "pwsh"
    },
    {
     "aliases": [
      "js"
     ],
     "languageName": "JavaScript",
     "name": "javascript"
    },
    {
     "languageName": "HTML",
     "name": "html"
    },
    {
     "languageName": "SQL",
     "name": "sql"
    },
    {
     "languageName": "KQL",
     "name": "kql"
    },
    {
     "languageName": "Mermaid",
     "name": "mermaid"
    },
    {
     "languageName": "HTTP",
     "name": "http"
    },
    {
     "name": "value"
    }
   ]
  },
  "language_info": {
   "name": "python"
  }
 },
 "nbformat": 4,
 "nbformat_minor": 5
}
