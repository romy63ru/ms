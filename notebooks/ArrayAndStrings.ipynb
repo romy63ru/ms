{
 "cells": [
  {
   "cell_type": "markdown",
   "metadata": {},
   "source": [
    "# Массивы и строки\n",
    "\n",
    "1.3. Напишите метод, заменяющий все пробелы в строке символами '%20'. Можете считать, что длина строки позволяет сохранить дополнительные символы, а фактическая длина строки известна заранее.\n"
   ]
  },
  {
   "cell_type": "code",
   "execution_count": 2,
   "metadata": {
    "dotnet_interactive": {
     "language": "csharp"
    },
    "polyglot_notebook": {
     "kernelName": "csharp"
    }
   },
   "outputs": [
    {
     "name": "stdout",
     "output_type": "stream",
     "text": [
      "HVhvhsdc%20scdchvh%20sdchvhg%20sdcs%20\n"
     ]
    }
   ],
   "source": [
    "string addString(string input) \n",
    "{\n",
    "string result = string.Empty;\n",
    "for(int i=0; i<=input.Length-1;i++)\n",
    "{\n",
    "    if(input[i]==' ') {\n",
    "        result += \"%20\";\n",
    "    }\n",
    "    else {\n",
    "        result += input[i];\n",
    "    }\n",
    "}\n",
    "return result;\n",
    "}\n",
    "\n",
    "Console.WriteLine(addString(\"HVhvhsdc scdchvh sdchvhg sdcs \"));"
   ]
  },
  {
   "cell_type": "markdown",
   "metadata": {},
   "source": [
    "1.4. Напишите функцию, которая проверяет, является ли заданная строка перестановкой палиндрома. (Палиндром — слово или фраза, одинаково читающиеся в прямом и обратном направлении; перестановка — строка, содержащая те же символы в другом порядке.) Палиндром не ограничивается словами из словаря.\n",
    "\n",
    "  >  Пример:\n",
    "  >  Ввод:   Tact Coa\n",
    "  >  Вывод:  True (перестановки: \"taco cat\", \"atco cta\", и т.д.)”\n"
   ]
  },
  {
   "cell_type": "code",
   "execution_count": 1,
   "metadata": {
    "dotnet_interactive": {
     "language": "csharp"
    },
    "polyglot_notebook": {
     "kernelName": "csharp"
    }
   },
   "outputs": [
    {
     "ename": "Error",
     "evalue": "System.IndexOutOfRangeException: Index was outside the bounds of the array.\n   at Submission#2.isPremutationPalyndrome(String input)\n   at Submission#2.<<Initialize>>d__0.MoveNext()\n--- End of stack trace from previous location ---\n   at Microsoft.CodeAnalysis.Scripting.ScriptExecutionState.RunSubmissionsAsync[TResult](ImmutableArray`1 precedingExecutors, Func`2 currentExecutor, StrongBox`1 exceptionHolderOpt, Func`2 catchExceptionOpt, CancellationToken cancellationToken)",
     "output_type": "error",
     "traceback": [
      "System.IndexOutOfRangeException: Index was outside the bounds of the array.\n",
      "   at Submission#2.isPremutationPalyndrome(String input)\n",
      "   at Submission#2.<<Initialize>>d__0.MoveNext()\n",
      "--- End of stack trace from previous location ---\n",
      "   at Microsoft.CodeAnalysis.Scripting.ScriptExecutionState.RunSubmissionsAsync[TResult](ImmutableArray`1 precedingExecutors, Func`2 currentExecutor, StrongBox`1 exceptionHolderOpt, Func`2 catchExceptionOpt, CancellationToken cancellationToken)"
     ]
    }
   ],
   "source": [
    "bool isPremutationPalyndrome(string input)\n",
    "{\n",
    "    int resultCount = 0;\n",
    "    int[] table = new int[(int)Char.GetNumericValue('z') - (int)Char.GetNumericValue('a')];\n",
    "    for(int i=0; i<=input.Length-1;i++)\n",
    "    {       \n",
    "        int x = (int)input[i];\n",
    "        if(x!=-1)\n",
    "        {\n",
    "            table[x]++;\n",
    "            if(table[x] % 2 == 1)\n",
    "            {\n",
    "                resultCount++;\n",
    "            }\n",
    "             else \n",
    "            {\n",
    "                resultCount--;\n",
    "            }\n",
    "       }\n",
    "    }\n",
    "    return resultCount <= 1;\n",
    "}\n",
    "\n",
    "Console.WriteLine(isPremutationPalyndrome(\"Tact Coa\"));\n",
    "Console.WriteLine(isPremutationPalyndrome(\"Tsdcsasxsax\"));\n"
   ]
  }
 ],
 "metadata": {
  "kernelspec": {
   "display_name": ".NET (C#)",
   "language": "C#",
   "name": ".net-csharp"
  },
  "language_info": {
   "name": "polyglot-notebook"
  },
  "polyglot_notebook": {
   "kernelInfo": {
    "defaultKernelName": "csharp",
    "items": [
     {
      "aliases": [],
      "languageName": "csharp",
      "name": "csharp"
     }
    ]
   }
  }
 },
 "nbformat": 4,
 "nbformat_minor": 2
}
